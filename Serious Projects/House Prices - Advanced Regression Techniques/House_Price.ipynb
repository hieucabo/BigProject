{
 "cells": [
  {
   "attachments": {},
   "cell_type": "markdown",
   "metadata": {},
   "source": [
    "# <a id = '1'>1. Introduction</a>"
   ]
  },
  {
   "attachments": {},
   "cell_type": "markdown",
   "metadata": {},
   "source": [
    "Ask a home buyer to describe their dream house, and they probably won't begin with the height of the basement ceiling or the proximity to an east-west railroad. But this playground competition's dataset proves that much more influences price negotiations than the number of bedrooms or a white-picket fence.\n",
    "\n",
    "With 79 explanatory variables describing (almost) every aspect of residential homes in Ames, Iowa, this competition challenges you to predict the final price of each home."
   ]
  },
  {
   "attachments": {},
   "cell_type": "markdown",
   "metadata": {},
   "source": [
    "# <a id = '2'>2. Importing the data</a>"
   ]
  },
  {
   "cell_type": "code",
   "execution_count": 64,
   "metadata": {},
   "outputs": [],
   "source": [
    "# Importing libraries \n",
    "import pandas as pd \n",
    "import numpy as np \n",
    "import matplotlib.pyplot as plt \n",
    "import seaborn as sns \n",
    "from sklearn.ensemble import RandomForestClassifier\n",
    "from sklearn.preprocessing import LabelEncoder\n",
    "from sklearn.neighbors import KNeighborsClassifier\n",
    "from sklearn.preprocessing import OneHotEncoder\n",
    "from sklearn.ensemble import RandomForestRegressor\n"
   ]
  },
  {
   "cell_type": "code",
   "execution_count": 2,
   "metadata": {},
   "outputs": [],
   "source": [
    "# Print full rows \n",
    "pd.set_option('display.max_rows', None)"
   ]
  },
  {
   "cell_type": "code",
   "execution_count": 3,
   "metadata": {},
   "outputs": [],
   "source": [
    "# Input the csv file \n",
    "test = pd.read_csv(r\"C:\\Users\\minhh\\Documents\\Python Project\\House_Price\\test.csv\")\n",
    "train = pd.read_csv(r\"C:\\Users\\minhh\\Documents\\Python Project\\House_Price\\train.csv\")\n",
    "df_list = %who_ls DataFrame "
   ]
  },
  {
   "cell_type": "code",
   "execution_count": 4,
   "metadata": {},
   "outputs": [
    {
     "name": "stdout",
     "output_type": "stream",
     "text": [
      "Size of test is :(1459, 80)\n",
      "Size of train is :(1460, 81)\n"
     ]
    }
   ],
   "source": [
    "# Shape of each df \n",
    "for df in df_list: \n",
    "    print('Size of ' + str(df) + ' is :' + str(globals()[df].shape))"
   ]
  },
  {
   "cell_type": "code",
   "execution_count": 5,
   "metadata": {},
   "outputs": [],
   "source": [
    "# Append 2 table, however the column saleprice of test table will be null \n",
    "test['SalePrice'] = ''\n",
    "\n",
    "full = pd.concat([train,test], ignore_index = True)"
   ]
  },
  {
   "attachments": {},
   "cell_type": "markdown",
   "metadata": {},
   "source": [
    "# <a id='3'>3. Glimpse of Data</a>"
   ]
  },
  {
   "cell_type": "code",
   "execution_count": 6,
   "metadata": {},
   "outputs": [
    {
     "name": "stdout",
     "output_type": "stream",
     "text": [
      "(2919, 81)\n"
     ]
    }
   ],
   "source": [
    "# Shape of the dataframe \n",
    "print(full.shape)"
   ]
  },
  {
   "cell_type": "code",
   "execution_count": 7,
   "metadata": {},
   "outputs": [
    {
     "name": "stdout",
     "output_type": "stream",
     "text": [
      "<class 'pandas.core.frame.DataFrame'>\n",
      "RangeIndex: 2919 entries, 0 to 2918\n",
      "Data columns (total 81 columns):\n",
      " #   Column         Non-Null Count  Dtype  \n",
      "---  ------         --------------  -----  \n",
      " 0   Id             2919 non-null   int64  \n",
      " 1   MSSubClass     2919 non-null   int64  \n",
      " 2   MSZoning       2915 non-null   object \n",
      " 3   LotFrontage    2433 non-null   float64\n",
      " 4   LotArea        2919 non-null   int64  \n",
      " 5   Street         2919 non-null   object \n",
      " 6   Alley          198 non-null    object \n",
      " 7   LotShape       2919 non-null   object \n",
      " 8   LandContour    2919 non-null   object \n",
      " 9   Utilities      2917 non-null   object \n",
      " 10  LotConfig      2919 non-null   object \n",
      " 11  LandSlope      2919 non-null   object \n",
      " 12  Neighborhood   2919 non-null   object \n",
      " 13  Condition1     2919 non-null   object \n",
      " 14  Condition2     2919 non-null   object \n",
      " 15  BldgType       2919 non-null   object \n",
      " 16  HouseStyle     2919 non-null   object \n",
      " 17  OverallQual    2919 non-null   int64  \n",
      " 18  OverallCond    2919 non-null   int64  \n",
      " 19  YearBuilt      2919 non-null   int64  \n",
      " 20  YearRemodAdd   2919 non-null   int64  \n",
      " 21  RoofStyle      2919 non-null   object \n",
      " 22  RoofMatl       2919 non-null   object \n",
      " 23  Exterior1st    2918 non-null   object \n",
      " 24  Exterior2nd    2918 non-null   object \n",
      " 25  MasVnrType     1153 non-null   object \n",
      " 26  MasVnrArea     2896 non-null   float64\n",
      " 27  ExterQual      2919 non-null   object \n",
      " 28  ExterCond      2919 non-null   object \n",
      " 29  Foundation     2919 non-null   object \n",
      " 30  BsmtQual       2838 non-null   object \n",
      " 31  BsmtCond       2837 non-null   object \n",
      " 32  BsmtExposure   2837 non-null   object \n",
      " 33  BsmtFinType1   2840 non-null   object \n",
      " 34  BsmtFinSF1     2918 non-null   float64\n",
      " 35  BsmtFinType2   2839 non-null   object \n",
      " 36  BsmtFinSF2     2918 non-null   float64\n",
      " 37  BsmtUnfSF      2918 non-null   float64\n",
      " 38  TotalBsmtSF    2918 non-null   float64\n",
      " 39  Heating        2919 non-null   object \n",
      " 40  HeatingQC      2919 non-null   object \n",
      " 41  CentralAir     2919 non-null   object \n",
      " 42  Electrical     2918 non-null   object \n",
      " 43  1stFlrSF       2919 non-null   int64  \n",
      " 44  2ndFlrSF       2919 non-null   int64  \n",
      " 45  LowQualFinSF   2919 non-null   int64  \n",
      " 46  GrLivArea      2919 non-null   int64  \n",
      " 47  BsmtFullBath   2917 non-null   float64\n",
      " 48  BsmtHalfBath   2917 non-null   float64\n",
      " 49  FullBath       2919 non-null   int64  \n",
      " 50  HalfBath       2919 non-null   int64  \n",
      " 51  BedroomAbvGr   2919 non-null   int64  \n",
      " 52  KitchenAbvGr   2919 non-null   int64  \n",
      " 53  KitchenQual    2918 non-null   object \n",
      " 54  TotRmsAbvGrd   2919 non-null   int64  \n",
      " 55  Functional     2917 non-null   object \n",
      " 56  Fireplaces     2919 non-null   int64  \n",
      " 57  FireplaceQu    1499 non-null   object \n",
      " 58  GarageType     2762 non-null   object \n",
      " 59  GarageYrBlt    2760 non-null   float64\n",
      " 60  GarageFinish   2760 non-null   object \n",
      " 61  GarageCars     2918 non-null   float64\n",
      " 62  GarageArea     2918 non-null   float64\n",
      " 63  GarageQual     2760 non-null   object \n",
      " 64  GarageCond     2760 non-null   object \n",
      " 65  PavedDrive     2919 non-null   object \n",
      " 66  WoodDeckSF     2919 non-null   int64  \n",
      " 67  OpenPorchSF    2919 non-null   int64  \n",
      " 68  EnclosedPorch  2919 non-null   int64  \n",
      " 69  3SsnPorch      2919 non-null   int64  \n",
      " 70  ScreenPorch    2919 non-null   int64  \n",
      " 71  PoolArea       2919 non-null   int64  \n",
      " 72  PoolQC         10 non-null     object \n",
      " 73  Fence          571 non-null    object \n",
      " 74  MiscFeature    105 non-null    object \n",
      " 75  MiscVal        2919 non-null   int64  \n",
      " 76  MoSold         2919 non-null   int64  \n",
      " 77  YrSold         2919 non-null   int64  \n",
      " 78  SaleType       2918 non-null   object \n",
      " 79  SaleCondition  2919 non-null   object \n",
      " 80  SalePrice      2919 non-null   object \n",
      "dtypes: float64(11), int64(26), object(44)\n",
      "memory usage: 1.8+ MB\n",
      "None\n"
     ]
    }
   ],
   "source": [
    "# List of columns\n",
    "print(full.info()) "
   ]
  },
  {
   "attachments": {},
   "cell_type": "markdown",
   "metadata": {},
   "source": [
    "I will drop the ID column as it is not necessary. "
   ]
  },
  {
   "cell_type": "code",
   "execution_count": 8,
   "metadata": {},
   "outputs": [],
   "source": [
    "full = full.drop(columns = 'Id',axis = 1)"
   ]
  },
  {
   "cell_type": "code",
   "execution_count": 9,
   "metadata": {},
   "outputs": [
    {
     "name": "stdout",
     "output_type": "stream",
     "text": [
      "   MSSubClass MSZoning  LotFrontage  LotArea Street Alley LotShape   \n",
      "0          60       RL         65.0     8450   Pave   NaN      Reg  \\\n",
      "1          20       RL         80.0     9600   Pave   NaN      Reg   \n",
      "2          60       RL         68.0    11250   Pave   NaN      IR1   \n",
      "3          70       RL         60.0     9550   Pave   NaN      IR1   \n",
      "4          60       RL         84.0    14260   Pave   NaN      IR1   \n",
      "\n",
      "  LandContour Utilities LotConfig  ... PoolArea PoolQC Fence MiscFeature   \n",
      "0         Lvl    AllPub    Inside  ...        0    NaN   NaN         NaN  \\\n",
      "1         Lvl    AllPub       FR2  ...        0    NaN   NaN         NaN   \n",
      "2         Lvl    AllPub    Inside  ...        0    NaN   NaN         NaN   \n",
      "3         Lvl    AllPub    Corner  ...        0    NaN   NaN         NaN   \n",
      "4         Lvl    AllPub       FR2  ...        0    NaN   NaN         NaN   \n",
      "\n",
      "  MiscVal MoSold  YrSold  SaleType  SaleCondition  SalePrice  \n",
      "0       0      2    2008        WD         Normal     208500  \n",
      "1       0      5    2007        WD         Normal     181500  \n",
      "2       0      9    2008        WD         Normal     223500  \n",
      "3       0      2    2006        WD        Abnorml     140000  \n",
      "4       0     12    2008        WD         Normal     250000  \n",
      "\n",
      "[5 rows x 80 columns]\n"
     ]
    }
   ],
   "source": [
    "# The first 5 rows of the df \n",
    "print(full.head())"
   ]
  },
  {
   "attachments": {},
   "cell_type": "markdown",
   "metadata": {},
   "source": [
    "# <a id='4'> 4. Check for missing data</a>"
   ]
  },
  {
   "cell_type": "code",
   "execution_count": 10,
   "metadata": {},
   "outputs": [
    {
     "data": {
      "text/plain": [
       "PoolQC          99.657417\n",
       "MiscFeature     96.402878\n",
       "Alley           93.216855\n",
       "Fence           80.438506\n",
       "MasVnrType      60.500171\n",
       "FireplaceQu     48.646797\n",
       "LotFrontage     16.649538\n",
       "GarageFinish     5.447071\n",
       "GarageQual       5.447071\n",
       "GarageCond       5.447071\n",
       "GarageYrBlt      5.447071\n",
       "GarageType       5.378554\n",
       "BsmtExposure     2.809181\n",
       "BsmtCond         2.809181\n",
       "BsmtQual         2.774923\n",
       "BsmtFinType2     2.740665\n",
       "BsmtFinType1     2.706406\n",
       "MasVnrArea       0.787941\n",
       "MSZoning         0.137033\n",
       "BsmtFullBath     0.068517\n",
       "BsmtHalfBath     0.068517\n",
       "Functional       0.068517\n",
       "Utilities        0.068517\n",
       "GarageArea       0.034258\n",
       "GarageCars       0.034258\n",
       "Electrical       0.034258\n",
       "KitchenQual      0.034258\n",
       "TotalBsmtSF      0.034258\n",
       "BsmtUnfSF        0.034258\n",
       "BsmtFinSF2       0.034258\n",
       "BsmtFinSF1       0.034258\n",
       "Exterior2nd      0.034258\n",
       "Exterior1st      0.034258\n",
       "SaleType         0.034258\n",
       "dtype: float64"
      ]
     },
     "execution_count": 10,
     "metadata": {},
     "output_type": "execute_result"
    }
   ],
   "source": [
    "# Number of missing data for each column \n",
    "full[full.columns[full.isna().any()]].isna().sum().sort_values(ascending = False)/len(full)*100"
   ]
  },
  {
   "attachments": {},
   "cell_type": "markdown",
   "metadata": {},
   "source": [
    "I will drop those columns that have 80% or more missing values. Besides, all columns that linked/based on the drop have more than 80% missing values should be dropped too. "
   ]
  },
  {
   "cell_type": "code",
   "execution_count": 11,
   "metadata": {},
   "outputs": [],
   "source": [
    "full = full.drop(columns = ['PoolQC','PoolArea','MiscFeature','MiscVal','Alley','Fence'],axis = 1)"
   ]
  },
  {
   "attachments": {},
   "cell_type": "markdown",
   "metadata": {},
   "source": [
    "# <a id='5'> 5. Glimpse of Data</a>"
   ]
  },
  {
   "attachments": {},
   "cell_type": "markdown",
   "metadata": {},
   "source": [
    "## <a id='5-1'> 5.1 Numerical data</a>"
   ]
  },
  {
   "cell_type": "code",
   "execution_count": 12,
   "metadata": {},
   "outputs": [
    {
     "name": "stdout",
     "output_type": "stream",
     "text": [
      "<class 'pandas.core.frame.DataFrame'>\n",
      "RangeIndex: 2919 entries, 0 to 2918\n",
      "Data columns (total 34 columns):\n",
      " #   Column         Non-Null Count  Dtype  \n",
      "---  ------         --------------  -----  \n",
      " 0   MSSubClass     2919 non-null   int64  \n",
      " 1   LotFrontage    2433 non-null   float64\n",
      " 2   LotArea        2919 non-null   int64  \n",
      " 3   OverallQual    2919 non-null   int64  \n",
      " 4   OverallCond    2919 non-null   int64  \n",
      " 5   YearBuilt      2919 non-null   int64  \n",
      " 6   YearRemodAdd   2919 non-null   int64  \n",
      " 7   MasVnrArea     2896 non-null   float64\n",
      " 8   BsmtFinSF1     2918 non-null   float64\n",
      " 9   BsmtFinSF2     2918 non-null   float64\n",
      " 10  BsmtUnfSF      2918 non-null   float64\n",
      " 11  TotalBsmtSF    2918 non-null   float64\n",
      " 12  1stFlrSF       2919 non-null   int64  \n",
      " 13  2ndFlrSF       2919 non-null   int64  \n",
      " 14  LowQualFinSF   2919 non-null   int64  \n",
      " 15  GrLivArea      2919 non-null   int64  \n",
      " 16  BsmtFullBath   2917 non-null   float64\n",
      " 17  BsmtHalfBath   2917 non-null   float64\n",
      " 18  FullBath       2919 non-null   int64  \n",
      " 19  HalfBath       2919 non-null   int64  \n",
      " 20  BedroomAbvGr   2919 non-null   int64  \n",
      " 21  KitchenAbvGr   2919 non-null   int64  \n",
      " 22  TotRmsAbvGrd   2919 non-null   int64  \n",
      " 23  Fireplaces     2919 non-null   int64  \n",
      " 24  GarageYrBlt    2760 non-null   float64\n",
      " 25  GarageCars     2918 non-null   float64\n",
      " 26  GarageArea     2918 non-null   float64\n",
      " 27  WoodDeckSF     2919 non-null   int64  \n",
      " 28  OpenPorchSF    2919 non-null   int64  \n",
      " 29  EnclosedPorch  2919 non-null   int64  \n",
      " 30  3SsnPorch      2919 non-null   int64  \n",
      " 31  ScreenPorch    2919 non-null   int64  \n",
      " 32  MoSold         2919 non-null   int64  \n",
      " 33  YrSold         2919 non-null   int64  \n",
      "dtypes: float64(11), int64(23)\n",
      "memory usage: 775.5 KB\n"
     ]
    }
   ],
   "source": [
    "numerical_df = full.drop(columns='SalePrice').select_dtypes(include = ['float64','int64'])\n",
    "numerical_df.info()"
   ]
  },
  {
   "cell_type": "code",
   "execution_count": 13,
   "metadata": {},
   "outputs": [
    {
     "data": {
      "image/png": "[encoded data removed]",
      "text/plain": [
       "<Figure size 1600x2000 with 36 Axes>"
      ]
     },
     "metadata": {},
     "output_type": "display_data"
    }
   ],
   "source": [
    "numerical_df.hist(figsize = (16,20), bins = 50, xlabelsize = 6, ylabelsize = 6)\n",
    "plt.show()"
   ]
  },
  {
   "attachments": {},
   "cell_type": "markdown",
   "metadata": {},
   "source": [
    "## <a id='5-2'> 5.2 Categorical data</a>"
   ]
  },
  {
   "cell_type": "code",
   "execution_count": 14,
   "metadata": {},
   "outputs": [
    {
     "name": "stdout",
     "output_type": "stream",
     "text": [
      "<class 'pandas.core.frame.DataFrame'>\n",
      "RangeIndex: 2919 entries, 0 to 2918\n",
      "Data columns (total 39 columns):\n",
      " #   Column         Non-Null Count  Dtype \n",
      "---  ------         --------------  ----- \n",
      " 0   MSZoning       2915 non-null   object\n",
      " 1   Street         2919 non-null   object\n",
      " 2   LotShape       2919 non-null   object\n",
      " 3   LandContour    2919 non-null   object\n",
      " 4   Utilities      2917 non-null   object\n",
      " 5   LotConfig      2919 non-null   object\n",
      " 6   LandSlope      2919 non-null   object\n",
      " 7   Neighborhood   2919 non-null   object\n",
      " 8   Condition1     2919 non-null   object\n",
      " 9   Condition2     2919 non-null   object\n",
      " 10  BldgType       2919 non-null   object\n",
      " 11  HouseStyle     2919 non-null   object\n",
      " 12  RoofStyle      2919 non-null   object\n",
      " 13  RoofMatl       2919 non-null   object\n",
      " 14  Exterior1st    2918 non-null   object\n",
      " 15  Exterior2nd    2918 non-null   object\n",
      " 16  MasVnrType     1153 non-null   object\n",
      " 17  ExterQual      2919 non-null   object\n",
      " 18  ExterCond      2919 non-null   object\n",
      " 19  Foundation     2919 non-null   object\n",
      " 20  BsmtQual       2838 non-null   object\n",
      " 21  BsmtCond       2837 non-null   object\n",
      " 22  BsmtExposure   2837 non-null   object\n",
      " 23  BsmtFinType1   2840 non-null   object\n",
      " 24  BsmtFinType2   2839 non-null   object\n",
      " 25  Heating        2919 non-null   object\n",
      " 26  HeatingQC      2919 non-null   object\n",
      " 27  CentralAir     2919 non-null   object\n",
      " 28  Electrical     2918 non-null   object\n",
      " 29  KitchenQual    2918 non-null   object\n",
      " 30  Functional     2917 non-null   object\n",
      " 31  FireplaceQu    1499 non-null   object\n",
      " 32  GarageType     2762 non-null   object\n",
      " 33  GarageFinish   2760 non-null   object\n",
      " 34  GarageQual     2760 non-null   object\n",
      " 35  GarageCond     2760 non-null   object\n",
      " 36  PavedDrive     2919 non-null   object\n",
      " 37  SaleType       2918 non-null   object\n",
      " 38  SaleCondition  2919 non-null   object\n",
      "dtypes: object(39)\n",
      "memory usage: 889.5+ KB\n"
     ]
    }
   ],
   "source": [
    "categorical_df = full.drop(columns='SalePrice').select_dtypes(include = 'object')\n",
    "categorical_df.info()"
   ]
  },
  {
   "cell_type": "code",
   "execution_count": 15,
   "metadata": {},
   "outputs": [
    {
     "name": "stdout",
     "output_type": "stream",
     "text": [
      "Neighborhood     25\n",
      "Exterior2nd      16\n",
      "Exterior1st      15\n",
      "SaleType          9\n",
      "Condition1        9\n",
      "Condition2        8\n",
      "HouseStyle        8\n",
      "RoofMatl          8\n",
      "Functional        7\n",
      "Foundation        6\n",
      "GarageType        6\n",
      "Heating           6\n",
      "BsmtFinType2      6\n",
      "BsmtFinType1      6\n",
      "SaleCondition     6\n",
      "RoofStyle         6\n",
      "BldgType          5\n",
      "GarageCond        5\n",
      "GarageQual        5\n",
      "FireplaceQu       5\n",
      "Electrical        5\n",
      "HeatingQC         5\n",
      "LotConfig         5\n",
      "MSZoning          5\n",
      "ExterCond         5\n",
      "BsmtExposure      4\n",
      "BsmtCond          4\n",
      "BsmtQual          4\n",
      "KitchenQual       4\n",
      "LandContour       4\n",
      "ExterQual         4\n",
      "LotShape          4\n",
      "LandSlope         3\n",
      "MasVnrType        3\n",
      "GarageFinish      3\n",
      "PavedDrive        3\n",
      "Utilities         2\n",
      "Street            2\n",
      "CentralAir        2\n",
      "dtype: int64\n"
     ]
    }
   ],
   "source": [
    "categorical_unique = categorical_df.nunique().sort_values(ascending = False)\n",
    "print(categorical_unique)"
   ]
  },
  {
   "attachments": {},
   "cell_type": "markdown",
   "metadata": {},
   "source": [
    "# <a id='6'> 6. Data Preparation</a>"
   ]
  },
  {
   "attachments": {},
   "cell_type": "markdown",
   "metadata": {},
   "source": [
    "Let's fill those NaN values to prepare the data for the machine learning model"
   ]
  },
  {
   "attachments": {},
   "cell_type": "markdown",
   "metadata": {},
   "source": [
    "## <a id='6-1'> 6.1 Numerical data</a>"
   ]
  },
  {
   "cell_type": "code",
   "execution_count": 16,
   "metadata": {},
   "outputs": [
    {
     "data": {
      "text/plain": [
       "LotFrontage     486\n",
       "GarageYrBlt     159\n",
       "MasVnrArea       23\n",
       "BsmtFullBath      2\n",
       "BsmtHalfBath      2\n",
       "BsmtFinSF1        1\n",
       "BsmtFinSF2        1\n",
       "BsmtUnfSF         1\n",
       "TotalBsmtSF       1\n",
       "GarageCars        1\n",
       "GarageArea        1\n",
       "dtype: int64"
      ]
     },
     "execution_count": 16,
     "metadata": {},
     "output_type": "execute_result"
    }
   ],
   "source": [
    "full[full.columns[full.isna().any()]].select_dtypes(include = ['float64','int64']).isna().sum().sort_values(ascending = False)"
   ]
  },
  {
   "attachments": {},
   "cell_type": "markdown",
   "metadata": {},
   "source": [
    "First, I wonder all the NaN value is actually 0. Let's findout."
   ]
  },
  {
   "cell_type": "code",
   "execution_count": 17,
   "metadata": {},
   "outputs": [
    {
     "name": "stdout",
     "output_type": "stream",
     "text": [
      "LotFrontage rows that have 0 as result: 0\n",
      "MasVnrArea rows that have 0 as result: 1738\n",
      "BsmtFinSF1 rows that have 0 as result: 929\n",
      "BsmtFinSF2 rows that have 0 as result: 2571\n",
      "BsmtUnfSF rows that have 0 as result: 241\n",
      "TotalBsmtSF rows that have 0 as result: 78\n",
      "BsmtFullBath rows that have 0 as result: 1705\n",
      "BsmtHalfBath rows that have 0 as result: 2742\n",
      "GarageYrBlt rows that have 0 as result: 0\n",
      "GarageCars rows that have 0 as result: 157\n",
      "GarageArea rows that have 0 as result: 157\n"
     ]
    }
   ],
   "source": [
    "numerical_column_nan = numerical_df.columns[numerical_df.isna().any()].to_list()\n",
    "\n",
    "for i in numerical_column_nan:\n",
    "    print(str(i) + \" rows that have 0 as result: \" + str(len(full[full[i] == 0][i])))"
   ]
  },
  {
   "attachments": {},
   "cell_type": "markdown",
   "metadata": {},
   "source": [
    "See that 2 column LotFrontage and GarageYrBlt do not have 0 value, so I will replace NaN with 0."
   ]
  },
  {
   "cell_type": "code",
   "execution_count": 18,
   "metadata": {},
   "outputs": [
    {
     "data": {
      "text/plain": [
       "MasVnrArea      23\n",
       "BsmtFullBath     2\n",
       "BsmtHalfBath     2\n",
       "BsmtFinSF1       1\n",
       "BsmtFinSF2       1\n",
       "BsmtUnfSF        1\n",
       "TotalBsmtSF      1\n",
       "GarageCars       1\n",
       "GarageArea       1\n",
       "dtype: int64"
      ]
     },
     "execution_count": 18,
     "metadata": {},
     "output_type": "execute_result"
    }
   ],
   "source": [
    "full.loc[:, ['LotFrontage', 'GarageYrBlt']] = full[['LotFrontage', 'GarageYrBlt']].fillna(0)\n",
    "full[full.columns[full.isna().any()]].select_dtypes(include = ['float64','int64']).isna().sum().sort_values(ascending = False)"
   ]
  },
  {
   "cell_type": "code",
   "execution_count": 19,
   "metadata": {},
   "outputs": [
    {
     "data": {
      "text/html": [
       "<div>\n",
       "<style scoped>\n",
       "    .dataframe tbody tr th:only-of-type {\n",
       "        vertical-align: middle;\n",
       "    }\n",
       "\n",
       "    .dataframe tbody tr th {\n",
       "        vertical-align: top;\n",
       "    }\n",
       "\n",
       "    .dataframe thead th {\n",
       "        text-align: right;\n",
       "    }\n",
       "</style>\n",
       "<table border=\"1\" class=\"dataframe\">\n",
       "  <thead>\n",
       "    <tr style=\"text-align: right;\">\n",
       "      <th></th>\n",
       "      <th>MasVnrArea</th>\n",
       "      <th>MasVnrType</th>\n",
       "    </tr>\n",
       "  </thead>\n",
       "  <tbody>\n",
       "    <tr>\n",
       "      <th>234</th>\n",
       "      <td>NaN</td>\n",
       "      <td>NaN</td>\n",
       "    </tr>\n",
       "    <tr>\n",
       "      <th>529</th>\n",
       "      <td>NaN</td>\n",
       "      <td>NaN</td>\n",
       "    </tr>\n",
       "    <tr>\n",
       "      <th>650</th>\n",
       "      <td>NaN</td>\n",
       "      <td>NaN</td>\n",
       "    </tr>\n",
       "    <tr>\n",
       "      <th>936</th>\n",
       "      <td>NaN</td>\n",
       "      <td>NaN</td>\n",
       "    </tr>\n",
       "    <tr>\n",
       "      <th>973</th>\n",
       "      <td>NaN</td>\n",
       "      <td>NaN</td>\n",
       "    </tr>\n",
       "    <tr>\n",
       "      <th>977</th>\n",
       "      <td>NaN</td>\n",
       "      <td>NaN</td>\n",
       "    </tr>\n",
       "    <tr>\n",
       "      <th>1243</th>\n",
       "      <td>NaN</td>\n",
       "      <td>NaN</td>\n",
       "    </tr>\n",
       "    <tr>\n",
       "      <th>1278</th>\n",
       "      <td>NaN</td>\n",
       "      <td>NaN</td>\n",
       "    </tr>\n",
       "    <tr>\n",
       "      <th>1691</th>\n",
       "      <td>NaN</td>\n",
       "      <td>NaN</td>\n",
       "    </tr>\n",
       "    <tr>\n",
       "      <th>1706</th>\n",
       "      <td>NaN</td>\n",
       "      <td>NaN</td>\n",
       "    </tr>\n",
       "    <tr>\n",
       "      <th>1882</th>\n",
       "      <td>NaN</td>\n",
       "      <td>NaN</td>\n",
       "    </tr>\n",
       "    <tr>\n",
       "      <th>1992</th>\n",
       "      <td>NaN</td>\n",
       "      <td>NaN</td>\n",
       "    </tr>\n",
       "    <tr>\n",
       "      <th>2004</th>\n",
       "      <td>NaN</td>\n",
       "      <td>NaN</td>\n",
       "    </tr>\n",
       "    <tr>\n",
       "      <th>2041</th>\n",
       "      <td>NaN</td>\n",
       "      <td>NaN</td>\n",
       "    </tr>\n",
       "    <tr>\n",
       "      <th>2311</th>\n",
       "      <td>NaN</td>\n",
       "      <td>NaN</td>\n",
       "    </tr>\n",
       "    <tr>\n",
       "      <th>2325</th>\n",
       "      <td>NaN</td>\n",
       "      <td>NaN</td>\n",
       "    </tr>\n",
       "    <tr>\n",
       "      <th>2340</th>\n",
       "      <td>NaN</td>\n",
       "      <td>NaN</td>\n",
       "    </tr>\n",
       "    <tr>\n",
       "      <th>2349</th>\n",
       "      <td>NaN</td>\n",
       "      <td>NaN</td>\n",
       "    </tr>\n",
       "    <tr>\n",
       "      <th>2368</th>\n",
       "      <td>NaN</td>\n",
       "      <td>NaN</td>\n",
       "    </tr>\n",
       "    <tr>\n",
       "      <th>2592</th>\n",
       "      <td>NaN</td>\n",
       "      <td>NaN</td>\n",
       "    </tr>\n",
       "    <tr>\n",
       "      <th>2657</th>\n",
       "      <td>NaN</td>\n",
       "      <td>NaN</td>\n",
       "    </tr>\n",
       "    <tr>\n",
       "      <th>2686</th>\n",
       "      <td>NaN</td>\n",
       "      <td>NaN</td>\n",
       "    </tr>\n",
       "    <tr>\n",
       "      <th>2862</th>\n",
       "      <td>NaN</td>\n",
       "      <td>NaN</td>\n",
       "    </tr>\n",
       "  </tbody>\n",
       "</table>\n",
       "</div>"
      ],
      "text/plain": [
       "      MasVnrArea MasVnrType\n",
       "234          NaN        NaN\n",
       "529          NaN        NaN\n",
       "650          NaN        NaN\n",
       "936          NaN        NaN\n",
       "973          NaN        NaN\n",
       "977          NaN        NaN\n",
       "1243         NaN        NaN\n",
       "1278         NaN        NaN\n",
       "1691         NaN        NaN\n",
       "1706         NaN        NaN\n",
       "1882         NaN        NaN\n",
       "1992         NaN        NaN\n",
       "2004         NaN        NaN\n",
       "2041         NaN        NaN\n",
       "2311         NaN        NaN\n",
       "2325         NaN        NaN\n",
       "2340         NaN        NaN\n",
       "2349         NaN        NaN\n",
       "2368         NaN        NaN\n",
       "2592         NaN        NaN\n",
       "2657         NaN        NaN\n",
       "2686         NaN        NaN\n",
       "2862         NaN        NaN"
      ]
     },
     "execution_count": 19,
     "metadata": {},
     "output_type": "execute_result"
    }
   ],
   "source": [
    "full[full['MasVnrArea'].isna()][['MasVnrArea','MasVnrType']]"
   ]
  },
  {
   "cell_type": "code",
   "execution_count": 20,
   "metadata": {},
   "outputs": [
    {
     "data": {
      "text/plain": [
       "array(['BrkFace', nan, 'Stone', 'BrkCmn'], dtype=object)"
      ]
     },
     "execution_count": 20,
     "metadata": {},
     "output_type": "execute_result"
    }
   ],
   "source": [
    "full['MasVnrType'].unique()"
   ]
  },
  {
   "attachments": {},
   "cell_type": "markdown",
   "metadata": {},
   "source": [
    "Let's replace NaN in MasVnrType to None, and 0 in MasVnrArea"
   ]
  },
  {
   "cell_type": "code",
   "execution_count": 21,
   "metadata": {},
   "outputs": [],
   "source": [
    "full.loc[:, 'MasVnrType'] = full['MasVnrType'].fillna('None')\n",
    "full.loc[:, 'MasVnrArea'] = full['MasVnrArea'].fillna(0)"
   ]
  },
  {
   "cell_type": "code",
   "execution_count": 22,
   "metadata": {},
   "outputs": [
    {
     "data": {
      "text/plain": [
       "BsmtFullBath    2\n",
       "BsmtHalfBath    2\n",
       "BsmtFinSF1      1\n",
       "BsmtFinSF2      1\n",
       "BsmtUnfSF       1\n",
       "TotalBsmtSF     1\n",
       "GarageCars      1\n",
       "GarageArea      1\n",
       "dtype: int64"
      ]
     },
     "execution_count": 22,
     "metadata": {},
     "output_type": "execute_result"
    }
   ],
   "source": [
    "full[full.columns[full.isna().any()]].select_dtypes(include = ['float64','int64']).isna().sum().sort_values(ascending = False)"
   ]
  },
  {
   "attachments": {},
   "cell_type": "markdown",
   "metadata": {},
   "source": [
    "I will fill the others column NaN with 0"
   ]
  },
  {
   "cell_type": "code",
   "execution_count": 23,
   "metadata": {},
   "outputs": [
    {
     "name": "stdout",
     "output_type": "stream",
     "text": [
      "0      BsmtFinSF1\n",
      "1      BsmtFinSF2\n",
      "2       BsmtUnfSF\n",
      "3     TotalBsmtSF\n",
      "4    BsmtFullBath\n",
      "5    BsmtHalfBath\n",
      "6      GarageCars\n",
      "7      GarageArea\n",
      "Name: index, dtype: object\n"
     ]
    }
   ],
   "source": [
    "column_NaN_left = full[full.columns[full.isna().any()]].select_dtypes(include = ['float64','int64']).isna().sum().reset_index()['index']\n",
    "print(column_NaN_left)"
   ]
  },
  {
   "cell_type": "code",
   "execution_count": 24,
   "metadata": {},
   "outputs": [],
   "source": [
    "for i in column_NaN_left: \n",
    "    full.loc[:, i] = full[i].fillna(0)\n"
   ]
  },
  {
   "cell_type": "code",
   "execution_count": 25,
   "metadata": {},
   "outputs": [
    {
     "data": {
      "text/plain": [
       "Series([], dtype: float64)"
      ]
     },
     "execution_count": 25,
     "metadata": {},
     "output_type": "execute_result"
    }
   ],
   "source": [
    "full[full.columns[full.isna().any()]].select_dtypes(include = ['float64','int64']).isna().sum()"
   ]
  },
  {
   "attachments": {},
   "cell_type": "markdown",
   "metadata": {},
   "source": [
    "## <a id='6-1'> 6.2 Categorical data</a>"
   ]
  },
  {
   "cell_type": "code",
   "execution_count": 26,
   "metadata": {},
   "outputs": [
    {
     "data": {
      "text/plain": [
       "FireplaceQu     1420\n",
       "GarageCond       159\n",
       "GarageQual       159\n",
       "GarageFinish     159\n",
       "GarageType       157\n",
       "BsmtCond          82\n",
       "BsmtExposure      82\n",
       "BsmtQual          81\n",
       "BsmtFinType2      80\n",
       "BsmtFinType1      79\n",
       "MSZoning           4\n",
       "Utilities          2\n",
       "Functional         2\n",
       "Electrical         1\n",
       "KitchenQual        1\n",
       "Exterior2nd        1\n",
       "Exterior1st        1\n",
       "SaleType           1\n",
       "dtype: int64"
      ]
     },
     "execution_count": 26,
     "metadata": {},
     "output_type": "execute_result"
    }
   ],
   "source": [
    "full[full.columns[full.isna().any()]].select_dtypes(include = ['object']).isna().sum().sort_values(ascending = False)"
   ]
  },
  {
   "attachments": {},
   "cell_type": "markdown",
   "metadata": {},
   "source": [
    "Let's replace NaN value for FireplaceQu, GarageCond, GarageQual, GarageFinish, GarageType, BsmtCond, BsmtExposure, BsmtQual, BsmtFinType2, BsmtFinType1 to NaN"
   ]
  },
  {
   "cell_type": "code",
   "execution_count": 27,
   "metadata": {},
   "outputs": [
    {
     "data": {
      "text/plain": [
       "MSZoning       4\n",
       "Utilities      2\n",
       "Functional     2\n",
       "Exterior1st    1\n",
       "Exterior2nd    1\n",
       "Electrical     1\n",
       "KitchenQual    1\n",
       "SaleType       1\n",
       "dtype: int64"
      ]
     },
     "execution_count": 27,
     "metadata": {},
     "output_type": "execute_result"
    }
   ],
   "source": [
    "column_NaN_to_replace = ['FireplaceQu', 'GarageCond', 'GarageQual', 'GarageFinish', 'GarageType', 'BsmtCond', 'BsmtExposure', 'BsmtQual', 'BsmtFinType2', 'BsmtFinType1']\n",
    "\n",
    "for i in column_NaN_to_replace:\n",
    "    full.loc[:, i] = full[i].fillna('None')\n",
    "    \n",
    "full[full.columns[full.isna().any()]].select_dtypes(include = ['object']).isna().sum().sort_values(ascending = False)"
   ]
  },
  {
   "attachments": {},
   "cell_type": "markdown",
   "metadata": {},
   "source": [
    "Lets use K-nearest to fill the remaining NaN value. "
   ]
  },
  {
   "cell_type": "code",
   "execution_count": 28,
   "metadata": {},
   "outputs": [],
   "source": [
    "#fill MSZoning\n",
    "knn5 = KNeighborsClassifier(n_neighbors = 5)\n",
    "\n",
    "X_train = full.loc[full['MSZoning'].notnull(),['MSSubClass']]\n",
    "y_train = np.ravel(full.loc[full['MSZoning'].notnull(),['MSZoning']])\n",
    "\n",
    "X_test = full.loc[full['MSZoning'].isna(),['MSSubClass']]\n",
    "\n",
    "knn5.fit(X_train,y_train)\n",
    "\n",
    "y_pred_5 = knn5.predict(X_test)\n",
    "\n",
    "full.loc[full['MSZoning'].isna(), 'MSZoning'] = y_pred_5"
   ]
  },
  {
   "cell_type": "code",
   "execution_count": 29,
   "metadata": {},
   "outputs": [
    {
     "data": {
      "text/plain": [
       "Utilities      2\n",
       "Functional     2\n",
       "Exterior1st    1\n",
       "Exterior2nd    1\n",
       "Electrical     1\n",
       "KitchenQual    1\n",
       "SaleType       1\n",
       "dtype: int64"
      ]
     },
     "execution_count": 29,
     "metadata": {},
     "output_type": "execute_result"
    }
   ],
   "source": [
    "full[full.columns[full.isna().any()]].select_dtypes(include = ['object']).isna().sum().sort_values(ascending = False)\n"
   ]
  },
  {
   "attachments": {},
   "cell_type": "markdown",
   "metadata": {},
   "source": [
    "For the others, there's actually no close related with any column. However I hope it will be related to MSSubClass and MSZoning. Because the class and zone should related to many features of the house."
   ]
  },
  {
   "cell_type": "code",
   "execution_count": 34,
   "metadata": {},
   "outputs": [],
   "source": [
    "\n",
    "def k_nearest_5(x):\n",
    "    knn5 = KNeighborsClassifier(n_neighbors=5)\n",
    "\n",
    "    X_train = full.loc[full[x].notnull(), ['MSSubClass', 'MSZoning']]\n",
    "    y_train = np.ravel(full.loc[full[x].notnull(), [x]])\n",
    "\n",
    "    X_test = full.loc[full[x].isna(), ['MSSubClass', 'MSZoning']]\n",
    "\n",
    "    # One-hot encode categorical variables\n",
    "    categorical_cols = ['MSZoning']\n",
    "    encoder = OneHotEncoder(sparse_output=False, handle_unknown='ignore')\n",
    "    X_train_encoded = encoder.fit_transform(X_train[categorical_cols])\n",
    "    X_test_encoded = encoder.transform(X_test[categorical_cols])\n",
    "\n",
    "    # Concatenate encoded features with other numerical features\n",
    "    X_train_final = np.hstack((X_train_encoded, X_train.drop(columns=categorical_cols)))\n",
    "    X_test_final = np.hstack((X_test_encoded, X_test.drop(columns=categorical_cols)))\n",
    "\n",
    "    knn5.fit(X_train_final, y_train)\n",
    "\n",
    "    y_pred_5 = knn5.predict(X_test_final)\n",
    "\n",
    "    full.loc[full[x].isna(), x] = y_pred_5"
   ]
  },
  {
   "cell_type": "code",
   "execution_count": 35,
   "metadata": {},
   "outputs": [],
   "source": [
    "column_NaN_left = full.columns[full.isna().any()]\n",
    "for i in column_NaN_left:\n",
    "    k_nearest_5(i)"
   ]
  },
  {
   "cell_type": "code",
   "execution_count": 36,
   "metadata": {},
   "outputs": [
    {
     "data": {
      "text/plain": [
       "Index([], dtype='object')"
      ]
     },
     "execution_count": 36,
     "metadata": {},
     "output_type": "execute_result"
    }
   ],
   "source": [
    "full.columns[full.isna().any()]"
   ]
  },
  {
   "cell_type": "code",
   "execution_count": 42,
   "metadata": {},
   "outputs": [
    {
     "name": "stdout",
     "output_type": "stream",
     "text": [
      "['AllPub' 'NoSeWa']\n",
      "['VinylSd' 'MetalSd' 'Wd Sdng' 'HdBoard' 'BrkFace' 'WdShing' 'CemntBd'\n",
      " 'Plywood' 'AsbShng' 'Stucco' 'BrkComm' 'AsphShn' 'Stone' 'ImStucc'\n",
      " 'CBlock']\n",
      "['VinylSd' 'MetalSd' 'Wd Shng' 'HdBoard' 'Plywood' 'Wd Sdng' 'CmentBd'\n",
      " 'BrkFace' 'Stucco' 'AsbShng' 'Brk Cmn' 'ImStucc' 'AsphShn' 'Stone'\n",
      " 'Other' 'CBlock']\n",
      "['SBrkr' 'FuseF' 'FuseA' 'FuseP' 'Mix']\n",
      "['Gd' 'TA' 'Ex' 'Fa']\n",
      "['Typ' 'Min1' 'Maj1' 'Min2' 'Mod' 'Maj2' 'Sev']\n",
      "['WD' 'New' 'COD' 'ConLD' 'ConLI' 'CWD' 'ConLw' 'Con' 'Oth']\n"
     ]
    }
   ],
   "source": [
    "for i in column_NaN_left: \n",
    "    print(full[i].unique())"
   ]
  },
  {
   "attachments": {},
   "cell_type": "markdown",
   "metadata": {},
   "source": [
    "Nice, there's no more null value now, let's go to data prediction."
   ]
  },
  {
   "attachments": {},
   "cell_type": "markdown",
   "metadata": {},
   "source": [
    "# <a id='7'> 7. Data Prediction</a>"
   ]
  },
  {
   "attachments": {},
   "cell_type": "markdown",
   "metadata": {},
   "source": [
    "There are many models for data prediction; however, in this project I choose random forest because of it high accuracy and robustness to outliers.\n",
    "Let's split back the data into test and train dataframe."
   ]
  },
  {
   "cell_type": "code",
   "execution_count": 61,
   "metadata": {},
   "outputs": [],
   "source": [
    "# split into train and test dataframe\n",
    "train_df = full[full['SalePrice'] != \"\"]\n",
    "train_df.loc[:, 'SalePrice'] = train_df['SalePrice'].astype('float')\n",
    "\n",
    "X_train = train_df.drop(columns = 'SalePrice')\n",
    "y_train = train_df['SalePrice']\n",
    "\n",
    "test_df = full[full['SalePrice'] == \"\"] \n",
    "X_test = test_df.drop(columns = 'SalePrice')"
   ]
  },
  {
   "cell_type": "code",
   "execution_count": 60,
   "metadata": {},
   "outputs": [
    {
     "data": {
      "text/plain": [
       "count       1460\n",
       "unique       663\n",
       "top       140000\n",
       "freq          20\n",
       "Name: SalePrice, dtype: int64"
      ]
     },
     "execution_count": 60,
     "metadata": {},
     "output_type": "execute_result"
    }
   ],
   "source": [
    "train_df['SalePrice'].describe()"
   ]
  },
  {
   "cell_type": "code",
   "execution_count": 66,
   "metadata": {},
   "outputs": [],
   "source": [
    "# Get the categorical columns\n",
    "categorical_columns = X_train.select_dtypes(include='object').columns\n",
    "\n",
    "# Perform one-hot encoding on categorical columns\n",
    "encoder = OneHotEncoder(sparse_output=False, handle_unknown='ignore')\n",
    "X_train_encoded = encoder.fit_transform(X_train[categorical_columns])\n",
    "X_test_encoded = encoder.transform(X_test[categorical_columns])\n",
    "\n",
    "# Concatenate the encoded features with the remaining numerical columns\n",
    "X_train_processed = np.concatenate([X_train_encoded, X_train.select_dtypes(exclude='object').values], axis=1)\n",
    "X_test_processed = np.concatenate([X_test_encoded, X_test.select_dtypes(exclude='object').values], axis=1)\n",
    "\n",
    "# Create a RandomForestRegressor\n",
    "rfr = RandomForestRegressor(n_estimators=100)"
   ]
  },
  {
   "cell_type": "code",
   "execution_count": 69,
   "metadata": {},
   "outputs": [],
   "source": [
    "# Train the model using training sets \n",
    "rfr.fit(X_train_processed,y_train)\n",
    "predict = rfr.predict(X_test_processed)"
   ]
  },
  {
   "cell_type": "code",
   "execution_count": 71,
   "metadata": {},
   "outputs": [],
   "source": [
    "full.loc[full['SalePrice'] == \"\", 'SalePrice'] = predict"
   ]
  },
  {
   "cell_type": "code",
   "execution_count": 85,
   "metadata": {},
   "outputs": [],
   "source": [
    "submission = full.loc[1460:,'SalePrice'].reset_index().rename(columns = {'index':'Id'})\n",
    "submission['Id'] = submission['Id'] + 1 \n",
    "submission.to_csv(r'C:\\Users\\minhh\\Documents\\Python Project\\House_Price\\submission.csv', index=False)"
   ]
  },
  {
   "attachments": {},
   "cell_type": "markdown",
   "metadata": {},
   "source": [
    "# <a id='8'> 8. Summary</a>"
   ]
  },
  {
   "attachments": {},
   "cell_type": "markdown",
   "metadata": {},
   "source": [
    "Well, this is my second time trying to do something in the Machine Learning field. I surely will come back and update the code later for a higher score. But I think getting a RMSE between the logarithm of the predicted value and the logarithm of the observed sales price only **0.14637** is a success."
   ]
  }
 ],
 "metadata": {
  "kernelspec": {
   "display_name": "studysession",
   "language": "python",
   "name": "python3"
  },
  "language_info": {
   "codemirror_mode": {
    "name": "ipython",
    "version": 3
   },
   "file_extension": ".py",
   "mimetype": "text/x-python",
   "name": "python",
   "nbconvert_exporter": "python",
   "pygments_lexer": "ipython3",
   "version": "3.10.10"
  },
  "orig_nbformat": 4
 },
 "nbformat": 4,
 "nbformat_minor": 2
}
